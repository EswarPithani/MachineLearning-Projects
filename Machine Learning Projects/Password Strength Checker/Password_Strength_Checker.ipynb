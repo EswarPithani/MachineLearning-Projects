{
  "nbformat": 4,
  "nbformat_minor": 0,
  "metadata": {
    "colab": {
      "provenance": []
    },
    "kernelspec": {
      "name": "python3",
      "display_name": "Python 3"
    },
    "language_info": {
      "name": "python"
    }
  },
  "cells": [
    {
      "cell_type": "code",
      "execution_count": 12,
      "metadata": {
        "id": "5Ss-mtIwejX7"
      },
      "outputs": [],
      "source": [
        "#importing required libraries\n",
        "import pandas as pd\n",
        "import numpy as np\n",
        "from sklearn.model_selection import train_test_split\n",
        "from sklearn.ensemble import RandomForestClassifier\n",
        "from sklearn.metrics import accuracy_score\n",
        "import re"
      ]
    },
    {
      "cell_type": "code",
      "source": [
        "def extract_data(password):\n",
        "  length = len(password)\n",
        "  has_upper = any(char.isupper() for char in password)\n",
        "  has_lower = any(char.islower() for char in password)\n",
        "  has_digit = any(char.isdigit() for char in password)\n",
        "  has_special = bool(re.search(r'[^a-zA-Z0-9]', password))\n",
        "\n",
        "  return [length, has_upper, has_lower, has_digit, has_special]"
      ],
      "metadata": {
        "id": "QrXnvZ0cvVKD"
      },
      "execution_count": 13,
      "outputs": []
    },
    {
      "cell_type": "code",
      "source": [
        "#Reading the data from the text files\n",
        "\n",
        "with open('strongpass.txt','r') as file:\n",
        "  strong_pass = file.read().splitlines()\n",
        "\n",
        "with open('weakpass.txt','r') as file:\n",
        "  weak_pass = file.read().splitlines()\n",
        "\n",
        "\n",
        "# Creating the dataset\n",
        "\n",
        "data = pd.DataFrame({\n",
        "    'password' : strong_pass + weak_pass,\n",
        "    'security_level' : [1] * len(strong_pass) + [0] * len(weak_pass)\n",
        "})\n",
        "\n",
        "data['password'].head()"
      ],
      "metadata": {
        "colab": {
          "base_uri": "https://localhost:8080/"
        },
        "id": "w9QwhrgvwJsA",
        "outputId": "23df574d-4b3d-4a4f-a14f-9ee4d0dc462e"
      },
      "execution_count": 14,
      "outputs": [
        {
          "output_type": "execute_result",
          "data": {
            "text/plain": [
              "0      9$gT!k#2pQ&v\n",
              "1    P@ssw0rd$tr0ng\n",
              "2    D1ff1cult&P@ss\n",
              "3      S3cur3!L0g1n\n",
              "4     G00dP@ssw0rd!\n",
              "Name: password, dtype: object"
            ]
          },
          "metadata": {},
          "execution_count": 14
        }
      ]
    },
    {
      "cell_type": "code",
      "source": [
        "# Feature Extraction\n",
        "\n",
        "features = data['password'].apply(lambda x: extract_data(x))\n",
        "X = pd.DataFrame(list(features), columns=['length', 'has_upper', 'has_lower', 'has_digit', 'has_special'])\n",
        "Y = data['security_level']\n",
        "\n",
        "X_train, X_test, Y_train, Y_test = train_test_split(X, Y, test_size=0.2, random_state=42)"
      ],
      "metadata": {
        "id": "dKmbXAMOxAoQ"
      },
      "execution_count": 15,
      "outputs": []
    },
    {
      "cell_type": "code",
      "source": [
        "# Training the Model\n",
        "\n",
        "model = RandomForestClassifier(random_state=42)\n",
        "model.fit(X_train, Y_train)\n",
        "\n",
        "# Evluating the Model\n",
        "\n",
        "Y_pred = model.predict(X_test)\n",
        "accuracy = accuracy_score(Y_test, Y_pred)\n",
        "print(f'Model Accuracy : {accuracy * 100:.2f}%')\n"
      ],
      "metadata": {
        "colab": {
          "base_uri": "https://localhost:8080/"
        },
        "id": "iTPgsPgyyHeU",
        "outputId": "183c31c6-7647-438b-feb0-1d091dc29aa0"
      },
      "execution_count": 16,
      "outputs": [
        {
          "output_type": "stream",
          "name": "stdout",
          "text": [
            "Model Accuracy : 100.00%\n"
          ]
        }
      ]
    },
    {
      "cell_type": "code",
      "source": [
        "# Checking the Model Accuracy\n",
        "\n",
        "pwd = input(\"Enter your Password: \")\n",
        "feature = pd.DataFrame([extract_data(pwd)], columns=X_train.columns)\n",
        "prediction = model.predict(feature)\n",
        "print('Secure Password' if prediction[0] == 1 else 'Weak Password')"
      ],
      "metadata": {
        "colab": {
          "base_uri": "https://localhost:8080/"
        },
        "id": "hq4GpTzyzHza",
        "outputId": "14ef4c0e-3cba-4f16-f929-a46c8483336e"
      },
      "execution_count": 20,
      "outputs": [
        {
          "output_type": "stream",
          "name": "stdout",
          "text": [
            "Enter your Password: 1123@wak\n",
            "Weak Password\n"
          ]
        }
      ]
    }
  ]
}